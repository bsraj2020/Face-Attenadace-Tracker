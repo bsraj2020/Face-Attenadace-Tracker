{
 "cells": [
  {
   "cell_type": "markdown",
   "id": "64749a92",
   "metadata": {},
   "source": [
    "### Import Libraries"
   ]
  },
  {
   "cell_type": "code",
   "execution_count": 1,
   "id": "9b6a8c5d",
   "metadata": {},
   "outputs": [],
   "source": [
    "import cv2\n",
    "import face_recognition\n",
    "import matplotlib.pyplot as plt\n",
    "import os ,numpy\n",
    "from datetime import datetime"
   ]
  },
  {
   "cell_type": "markdown",
   "id": "9c856b55",
   "metadata": {},
   "source": [
    "### Pre-Process Operations on Input Images"
   ]
  },
  {
   "cell_type": "code",
   "execution_count": 2,
   "id": "cc131dbe",
   "metadata": {},
   "outputs": [
    {
     "name": "stdout",
     "output_type": "stream",
     "text": [
      "['A Kumble.jpg', 'Abdul kalam.jpg', 'B Kumar.jpg', 'Dhawan.jpg', 'Dhoni.jpg', 'Elon.jpg', 'Hardik Panya.jpg', 'Jusprit Bumra.jpg', 'KL Rahul.jpg', 'M Shami.jpg', 'R Ashwin.jpg', 'R Jadeja.jpg', 'Rishabh Pant.jpg', 'Rohit Sharma.jpg', 'U Yadav.jpg', 'Virat.jpg']\n"
     ]
    }
   ],
   "source": [
    "# Give the Path to the Images\n",
    "known_img_path =os.path.join( os.getcwd(), 'images')\n",
    "print(os.listdir(known_img_path))"
   ]
  },
  {
   "cell_type": "code",
   "execution_count": 3,
   "id": "fb39583d",
   "metadata": {},
   "outputs": [
    {
     "data": {
      "text/plain": [
       "{'A Kumble': ['india', 'Coach'],\n",
       " 'Abdul kalam': ['india', 'Scinetist'],\n",
       " 'B Kumar': ['india', 'Bowler'],\n",
       " 'Dhawan': ['india', 'Batsman'],\n",
       " 'Dhoni': ['india', 'Captain'],\n",
       " 'Elon': ['USA', 'Inventor'],\n",
       " 'Hardik Panya': ['india', 'All-Rounder'],\n",
       " 'Jusprit Bumra': ['india', 'Bowler'],\n",
       " 'KL Rahul': ['india', 'batsman'],\n",
       " 'M Shami': ['india', 'Bowler'],\n",
       " 'R Ashwin': ['india', 'Coach'],\n",
       " 'R Jadeja': ['India', 'All-Rounder'],\n",
       " 'Rishabh Pant': ['india', 'Batsman'],\n",
       " 'Rohit Sharma': ['india', 'Batsman'],\n",
       " 'Virat': ['india', 'Vice-Captain'],\n",
       " 'U Yadav': ['india', 'Bowler']}"
      ]
     },
     "execution_count": 3,
     "metadata": {},
     "output_type": "execute_result"
    }
   ],
   "source": [
    "# Some information about our Candidates in Image\n",
    "Player_Info = { 'A Kumble':['india','Coach'] ,'Abdul kalam':['india','Scinetist'] ,'B Kumar':['india','Bowler'] ,'Dhawan':['india','Batsman'] ,'Dhoni':['india','Captain'] ,'Elon':['USA','Inventor'] ,'Hardik Panya':['india','All-Rounder'] ,'Jusprit Bumra':['india','Bowler'] ,'KL Rahul':['india','batsman'] ,'M Shami':['india','Bowler'] ,'R Ashwin':['india','Bowler'] ,'R Jadeja':['India','All-Rounder'] ,'Rishabh Pant':['india','Batsman'] ,'Rohit Sharma':['india','Batsman'] ,'Virat':['india','Vice-Captain']  ,'U Yadav':['india','Bowler'] , }\n",
    "Player_Info"
   ]
  },
  {
   "cell_type": "code",
   "execution_count": 4,
   "id": "b0cffd9c",
   "metadata": {},
   "outputs": [
    {
     "name": "stdout",
     "output_type": "stream",
     "text": [
      "['A Kumble', 'Abdul kalam', 'B Kumar', 'Dhawan', 'Dhoni', 'Elon', 'Hardik Panya', 'Jusprit Bumra', 'KL Rahul', 'M Shami', 'R Ashwin', 'R Jadeja', 'Rishabh Pant', 'Rohit Sharma', 'U Yadav', 'Virat']\n"
     ]
    }
   ],
   "source": [
    "# Make The Class of their Name\n",
    "All_images = os.listdir(known_img_path)\n",
    "Classes=[]\n",
    "for i in All_images:\n",
    "    Classes.append(i.split('.')[0])\n",
    "print(Classes )   "
   ]
  },
  {
   "cell_type": "markdown",
   "id": "a29096ad",
   "metadata": {},
   "source": [
    "### Find Encodings of Images"
   ]
  },
  {
   "cell_type": "code",
   "execution_count": 5,
   "id": "c74e4b11",
   "metadata": {},
   "outputs": [],
   "source": [
    "known_faces_enco=[]\n",
    "\n",
    "for i in All_images:\n",
    "    img = cv2.imread(os.path.join(known_img_path , i))\n",
    "    img_encoding = face_recognition.face_encodings(img)\n",
    "    known_faces_enco.append(img_encoding[0])"
   ]
  },
  {
   "cell_type": "code",
   "execution_count": 6,
   "id": "869da59d",
   "metadata": {},
   "outputs": [],
   "source": [
    "# check if .csv file is present if not then Create One\n",
    "file_name ='MyAttandance.csv'\n",
    "if file_name not in os.listdir(os.getcwd()):\n",
    "    open(file_name,'x')\n",
    "    with open(file_name,'r+') as f:\n",
    "        Name=\"Name\"\n",
    "        Country='Country'\n",
    "        Speciality='Speciality'\n",
    "        Time=\"Time\"\n",
    "        f.writelines(f'{Name},{Country},{Speciality},{Time}')"
   ]
  },
  {
   "cell_type": "code",
   "execution_count": 7,
   "id": "b91e2d21",
   "metadata": {},
   "outputs": [],
   "source": [
    "# Funtion which take name to Resister in file if not Already present\n",
    "def Mark_present(Name): \n",
    "    with open(file_name,'r+') as f:\n",
    "        All_Names= []\n",
    "        for pair in f.readlines():\n",
    "            All_Names.append( pair.split(',')[0] )\n",
    "        if Name not in All_Names:\n",
    "            now = datetime.now()\n",
    "            now = now.strftime(\"%H:%M:%S\")\n",
    "            Country = Player_Info[Name][0]\n",
    "            Speciality = Player_Info[Name][1]\n",
    "            \n",
    "            f.writelines(f'\\n{Name},{Country},{Speciality},{now}')"
   ]
  },
  {
   "cell_type": "markdown",
   "id": "1c2988f4",
   "metadata": {},
   "source": [
    "### Take Input to Process"
   ]
  },
  {
   "cell_type": "code",
   "execution_count": 8,
   "id": "fcfdf93d",
   "metadata": {},
   "outputs": [],
   "source": [
    "# Path to input Video we can use 0 for front Camera\n",
    "input_ = 'E:\\Tutorials\\Computer Science\\Extra_DL\\Face Recognition Code\\Indian_Team1.mp4'\n",
    "video  =  cv2.VideoCapture(input_)"
   ]
  },
  {
   "cell_type": "code",
   "execution_count": 9,
   "id": "ede6d8cf",
   "metadata": {},
   "outputs": [],
   "source": [
    "while(1):\n",
    "    if(cv2.waitKey(1)==ord('q')):\n",
    "        break\n",
    "        \n",
    "    is_cap,frame= video.read()\n",
    "#     if(is_cap):\n",
    "#         print(\"video capturing...\")\n",
    "            \n",
    "    face_loc = face_recognition.face_locations(frame) #locations of All faces in the frame\n",
    "    face_enco = face_recognition.face_encodings(frame,face_loc) #Encoding of All faces in the frame\n",
    "    result = []\n",
    "    for encode_face, loc_face in zip(face_enco,face_loc):\n",
    "        \n",
    "        \n",
    "        maches = face_recognition.compare_faces(known_faces_enco, encode_face,tolerance=0.5)\n",
    "        Dis = face_recognition.face_distance( known_faces_enco, encode_face )\n",
    "        Person_idx = numpy.argmin(Dis)\n",
    "        if( maches[ Person_idx ] ): # if Person Detected\n",
    "            \n",
    "            y1,x2,y2,x1 = loc_face\n",
    "            cv2.rectangle(frame ,(x1,y1),(x2,y2),(0,255,0),2 )\n",
    "            cv2.rectangle(frame ,(x1,y2-15),(x2,y2),(0,255,0),cv2.FILLED )\n",
    "            text = f\"{Classes[Person_idx]}\"\n",
    "            cv2.putText(frame,text, (x1+6,y2-6), cv2.FONT_HERSHEY_COMPLEX, 1, (200,0,0),2)\n",
    "            Mark_present( Classes[Person_idx] ) # mark Present if this is new\n",
    "#         print(f\"maches {maches}\")\n",
    "#         print(f\"Dis {Dis}\")\n",
    "    \n",
    "\n",
    "    \n",
    "        \n",
    "    cv2.imshow(\"video\",frame)     # Finally Show the Processed Frame/image\n",
    "        \n",
    "        \n",
    "video.release()\n",
    "cv2.destroyAllWindows()"
   ]
  },
  {
   "cell_type": "code",
   "execution_count": null,
   "id": "f4431e55",
   "metadata": {},
   "outputs": [],
   "source": []
  },
  {
   "cell_type": "markdown",
   "id": "673db1db",
   "metadata": {},
   "source": [
    "### See All saved People in the .csv file Recognised by their Faces "
   ]
  },
  {
   "cell_type": "code",
   "execution_count": 10,
   "id": "eb6918c5",
   "metadata": {},
   "outputs": [],
   "source": [
    "All_Names= []\n",
    "with open(file_name,'r+') as f:\n",
    "        All_Names.append([ i for i in f.read().splitlines()] )\n",
    "            "
   ]
  },
  {
   "cell_type": "code",
   "execution_count": 11,
   "id": "dc2643a0",
   "metadata": {},
   "outputs": [
    {
     "data": {
      "text/plain": [
       "[['Name,Country,Speciality,Time',\n",
       "  'B Kumar,india,Bowler,15:51:20',\n",
       "  'KL Rahul,india,batsman,15:51:25',\n",
       "  'Virat,india,Vice-Captain,17:59:56',\n",
       "  'R Jadeja,India,All-Rounder,18:04:16',\n",
       "  'Rohit Sharma,india,Batsman,18:06:22',\n",
       "  'Rishabh Pant,india,Batsman,18:09:38',\n",
       "  'U Yadav,india,Bowler,18:10:46',\n",
       "  'A Kumble,india,Coach,18:10:53',\n",
       "  'Dhoni,india,Captain,18:12:58',\n",
       "  'Jusprit Bumra,india,Bowler,18:15:22',\n",
       "  'M Shami,india,Bowler,18:16:20',\n",
       "  'Hardik Panya,india,All-Rounder,18:28:52',\n",
       "  'Dhawan,india,Batsman,18:29:13',\n",
       "  'R Ashwin,india,Coach,18:32:40']]"
      ]
     },
     "execution_count": 11,
     "metadata": {},
     "output_type": "execute_result"
    }
   ],
   "source": [
    "All_Names"
   ]
  },
  {
   "cell_type": "code",
   "execution_count": null,
   "id": "9c192ce2",
   "metadata": {},
   "outputs": [],
   "source": []
  },
  {
   "cell_type": "code",
   "execution_count": null,
   "id": "6aa978b9",
   "metadata": {},
   "outputs": [],
   "source": []
  }
 ],
 "metadata": {
  "kernelspec": {
   "display_name": "Python 3",
   "language": "python",
   "name": "python3"
  },
  "language_info": {
   "codemirror_mode": {
    "name": "ipython",
    "version": 3
   },
   "file_extension": ".py",
   "mimetype": "text/x-python",
   "name": "python",
   "nbconvert_exporter": "python",
   "pygments_lexer": "ipython3",
   "version": "3.8.7"
  }
 },
 "nbformat": 4,
 "nbformat_minor": 5
}
