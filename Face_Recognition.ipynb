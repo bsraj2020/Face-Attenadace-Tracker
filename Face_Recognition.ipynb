{
 "cells": [
  {
   "cell_type": "code",
   "execution_count": 1,
   "id": "9b6a8c5d",
   "metadata": {},
   "outputs": [],
   "source": [
    "import cv2\n",
    "import face_recognition\n",
    "import matplotlib.pyplot as plt\n",
    "import os ,numpy\n",
    "from datetime import datetime"
   ]
  },
  {
   "cell_type": "code",
   "execution_count": 2,
   "id": "cc131dbe",
   "metadata": {},
   "outputs": [
    {
     "name": "stdout",
     "output_type": "stream",
     "text": [
      "['Abdul kalam.jpg', 'Dhoni.jpg', 'Elon.jpg', 'virat.jpg']\n"
     ]
    }
   ],
   "source": [
    "known_img_path =os.path.join( os.getcwd(), 'images')\n",
    "print(os.listdir(known_img_path))"
   ]
  },
  {
   "cell_type": "code",
   "execution_count": 3,
   "id": "b0cffd9c",
   "metadata": {},
   "outputs": [],
   "source": [
    "All_images = os.listdir(known_img_path)\n",
    "Classes=[]\n",
    "for i in All_images:\n",
    "    Classes.append(i.split('.')[0])\n",
    "# Classes    "
   ]
  },
  {
   "cell_type": "code",
   "execution_count": 4,
   "id": "c74e4b11",
   "metadata": {},
   "outputs": [],
   "source": [
    "known_faces_enco=[]\n",
    "\n",
    "for i in All_images:\n",
    "    img = cv2.imread(os.path.join(known_img_path , i))\n",
    "    img_encoding = face_recognition.face_encodings(img)\n",
    "    known_faces_enco.append(img_encoding[0])"
   ]
  },
  {
   "cell_type": "code",
   "execution_count": 5,
   "id": "9433f82b",
   "metadata": {},
   "outputs": [],
   "source": []
  },
  {
   "cell_type": "code",
   "execution_count": 6,
   "id": "869da59d",
   "metadata": {},
   "outputs": [],
   "source": [
    "file_name ='MyAttandance.csv'\n",
    "if file_name not in os.listdir(os.getcwd()):\n",
    "    open(file_name,'x')\n",
    "    with open(file_name,'r+') as f:\n",
    "        Name=\"Name\"\n",
    "        Time=\"Time\"\n",
    "        f.writelines(f'{Name},{Time}')"
   ]
  },
  {
   "cell_type": "code",
   "execution_count": 7,
   "id": "b91e2d21",
   "metadata": {},
   "outputs": [],
   "source": [
    "def Mark_present(name): \n",
    "    with open(file_name,'r+') as f:\n",
    "        All_Names= []\n",
    "        for pair in f.readlines():\n",
    "            All_Names.append( pair.split(',')[0] )\n",
    "        if name not in All_Names:\n",
    "            now = datetime.now()\n",
    "            now = now.strftime(\"%H:%M:%S\")\n",
    "            f.writelines(f'\\n{name},{now}')"
   ]
  },
  {
   "cell_type": "code",
   "execution_count": 8,
   "id": "fcfdf93d",
   "metadata": {},
   "outputs": [],
   "source": [
    "video = cv2.VideoCapture(0)"
   ]
  },
  {
   "cell_type": "code",
   "execution_count": 9,
   "id": "ede6d8cf",
   "metadata": {},
   "outputs": [],
   "source": [
    "while(1):\n",
    "    if(cv2.waitKey(1)==ord('q')):\n",
    "        break\n",
    "        \n",
    "    is_cap,frame= video.read()\n",
    "#     if(is_cap):\n",
    "#         print(\"video capturing...\")\n",
    "            \n",
    "    face_loc = face_recognition.face_locations(frame)\n",
    "    face_enco = face_recognition.face_encodings(frame,face_loc) \n",
    "    result = []\n",
    "    for encode_face, loc_face in zip(face_enco,face_loc):\n",
    "        \n",
    "        maches = face_recognition.compare_faces(known_faces_enco, encode_face)\n",
    "        Dis = face_recognition.face_distance( known_faces_enco, encode_face )\n",
    "        Person_idx = numpy.argmin(Dis)\n",
    "        if( maches[ Person_idx ] ):\n",
    "            \n",
    "            y1,x2,y2,x1 = loc_face\n",
    "            cv2.rectangle(frame ,(x1,y1),(x2,y2),(0,255,0),2 )\n",
    "            cv2.rectangle(frame ,(x1,y2-15),(x2,y2),(0,255,0),cv2.FILLED )\n",
    "            text = f\"{Classes[Person_idx]}\"\n",
    "            cv2.putText(frame,text,(x1+6,y2-6),cv2.FONT_HERSHEY_COMPLEX,1,(200,0,0),1)\n",
    "            Mark_present( Classes[Person_idx] )\n",
    "#         print(f\"maches {maches}\")\n",
    "#         print(f\"Dis {Dis}\")\n",
    "    \n",
    "\n",
    "    \n",
    "# #         \n",
    "    cv2.imshow(\"video\",frame)    \n",
    "        \n",
    "        \n",
    "video.release()\n",
    "cv2.destroyAllWindows()"
   ]
  },
  {
   "cell_type": "code",
   "execution_count": null,
   "id": "f4431e55",
   "metadata": {},
   "outputs": [],
   "source": []
  },
  {
   "cell_type": "code",
   "execution_count": 10,
   "id": "6dbc509f",
   "metadata": {},
   "outputs": [
    {
     "name": "stdout",
     "output_type": "stream",
     "text": [
      "['Name,Time', 'Bharat,19:27:48', 'Abdul', 'kalam,19:27:56', 'Dhoni,19:28:12', 'virat,19:28:23']\n"
     ]
    }
   ],
   "source": [
    "with open(file_name,'r') as f:\n",
    "    aa = f.read().split()\n",
    "    print(aa)"
   ]
  },
  {
   "cell_type": "code",
   "execution_count": 20,
   "id": "eb6918c5",
   "metadata": {},
   "outputs": [],
   "source": [
    "All_Names= []\n",
    "with open(file_name,'r+') as f:\n",
    "        All_Names.append([ i for i in f.read().splitlines()] )\n",
    "            "
   ]
  },
  {
   "cell_type": "code",
   "execution_count": 21,
   "id": "dc2643a0",
   "metadata": {},
   "outputs": [
    {
     "data": {
      "text/plain": [
       "[['Name,Time',\n",
       "  'Bharat,19:27:48',\n",
       "  'Abdul kalam,19:27:56',\n",
       "  'Dhoni,19:28:12',\n",
       "  'virat,19:28:23']]"
      ]
     },
     "execution_count": 21,
     "metadata": {},
     "output_type": "execute_result"
    }
   ],
   "source": [
    "All_Names"
   ]
  },
  {
   "cell_type": "code",
   "execution_count": null,
   "id": "9c192ce2",
   "metadata": {},
   "outputs": [],
   "source": []
  },
  {
   "cell_type": "code",
   "execution_count": null,
   "id": "6aa978b9",
   "metadata": {},
   "outputs": [],
   "source": []
  }
 ],
 "metadata": {
  "kernelspec": {
   "display_name": "Python 3",
   "language": "python",
   "name": "python3"
  },
  "language_info": {
   "codemirror_mode": {
    "name": "ipython",
    "version": 3
   },
   "file_extension": ".py",
   "mimetype": "text/x-python",
   "name": "python",
   "nbconvert_exporter": "python",
   "pygments_lexer": "ipython3",
   "version": "3.8.7"
  }
 },
 "nbformat": 4,
 "nbformat_minor": 5
}
